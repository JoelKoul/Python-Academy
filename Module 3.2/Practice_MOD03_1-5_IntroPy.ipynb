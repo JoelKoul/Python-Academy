{
 "cells": [
  {
   "cell_type": "markdown",
   "metadata": {},
   "source": [
    "# 1-5 Intro Python Practice  \n",
    "## conditionals, type, and mathematics extended   \n",
    "&nbsp;\n",
    "<font size=\"5\" color=\"#00A0B2\"  face=\"verdana\"> <B>Student will be able to</B></font>  \n",
    "- code more than two choices using **`elif`** \n",
    "- gather numeric input using type casting  \n",
    "- perform subtraction, multiplication and division operations in code  &nbsp;  \n"
   ]
  },
  {
   "cell_type": "markdown",
   "metadata": {},
   "source": [
    "# &nbsp;  \n",
    "<font size=\"6\" color=\"#B24C00\"  face=\"verdana\"> <B>Tasks</B></font>"
   ]
  },
  {
   "cell_type": "markdown",
   "metadata": {},
   "source": [
    "### Rainbow colors\n",
    "ask for input of a favorite rainbow color first letter: ROYGBIV  \n",
    "\n",
    "Using `if`, `elif`, and `else`:  \n",
    "- print the color matching the letter  \n",
    "    - R = Red  \n",
    "    - O = Orange  \n",
    "    - Y = Yellow  \n",
    "    - G = Green\n",
    "    - B = Blue\n",
    "    - I = Indigo\n",
    "    - V = Violet\n",
    "    - else print \"no match\"\n"
   ]
  },
  {
   "cell_type": "code",
   "execution_count": 23,
   "metadata": {},
   "outputs": [
    {
     "name": "stdout",
     "output_type": "stream",
     "text": [
      "enter the rainbow color : Blue\n",
      "the rainbow color is Blue\n"
     ]
    }
   ],
   "source": [
    "# [ ] complete rainbow colors\n",
    "rainbow_color = input('enter the rainbow color : ')\n",
    "if rainbow_color.lower() == \"red\".lower() :\n",
    "    print('the color is ',rainbow_color)\n",
    "elif rainbow_color.lower() == \"orange\".lower() :\n",
    "    print('the rainbow color is ',rainbow_color)\n",
    "elif rainbow_color.lower() == \"yellow\".lower() :\n",
    "    print('the rainbow color is',rainbow_color)\n",
    "elif rainbow_color.lower() == \"green\".lower() :\n",
    "    print('the rainbow color is',rainbow_color)\n",
    "elif rainbow_color.lower() == \"blue\".lower() :\n",
    "    print('the rainbow color is',rainbow_color)\n",
    "elif rainbow_color.lower() == \"indigo\".lower() :\n",
    "    print('the rainbow color is',rainbow_color)\n",
    "elif rainbow_color.lower() == \"violet\".lower() :\n",
    "    print('the rainbow color is',rainbow_color)\n",
    "else:\n",
    "    print('no match')"
   ]
  },
  {
   "cell_type": "code",
   "execution_count": 11,
   "metadata": {},
   "outputs": [
    {
     "name": "stdout",
     "output_type": "stream",
     "text": [
      "enter the rainbow color :blue\n",
      "the rainbow color is matching color\n"
     ]
    }
   ],
   "source": [
    "# [ ] make the code above into a function rainbow_color() that has a string parameter, \n",
    "# get input and call the function and return the matching color as a string or \"no match\" message.\n",
    "# Call the function and print the return string.\n",
    "def rainbow_color (rainbow):\n",
    "    rainbow= input ('enter the rainbow color :')\n",
    "    if rainbow.lower() == 'blue'.lower():\n",
    "        return 'matching color'\n",
    "    else:\n",
    "        return 'no matching color'\n",
    "rainbow_val=rainbow_color(\"enter the rainbow color :\")\n",
    "print('the rainbow color is',rainbow_val)"
   ]
  },
  {
   "cell_type": "markdown",
   "metadata": {},
   "source": [
    "# &nbsp;  \n",
    "**Create function age_20() that adds or subtracts 20 from your age for a return value based on current age** (use `if`) \n",
    "- call the funtion with user input and then use the return value in a sentence  \n",
    "example `age_20(25)` returns **5**: \n",
    "> \"5 years old, 20 years difference from now\""
   ]
  },
  {
   "cell_type": "code",
   "execution_count": 24,
   "metadata": {},
   "outputs": [
    {
     "name": "stdout",
     "output_type": "stream",
     "text": [
      "How old are you?: 30\n",
      "Your current age is 30. Your age in twenty years will be 50.\n"
     ]
    }
   ],
   "source": [
    "# [ ] complete age_20()\n",
    "\n",
    "def age_20(age):\n",
    "    if age.isdigit() == True:\n",
    "        future_age = int(age) + 20\n",
    "        print(\"Your current age is \" + str(age) + \". Your age in twenty years will be \" + str(future_age) + \".\")\n",
    "    else:\n",
    "        print(\"Please enter a number.\")\n",
    "        \n",
    "my_age=input(\"How old are you?: \" )\n",
    "age_20(my_age)"
   ]
  },
  {
   "cell_type": "markdown",
   "metadata": {},
   "source": [
    "**create a function rainbow_or_age that takes a string argument**\n",
    "- if argument is a digit return the value of calling age_20() with the str value cast as **`int`** \n",
    "- if argument is an alphabetical character return the value of calling rainbow_color() with the str\n",
    "- if neither return FALSE"
   ]
  },
  {
   "cell_type": "code",
   "execution_count": 52,
   "metadata": {},
   "outputs": [
    {
     "name": "stdout",
     "output_type": "stream",
     "text": [
      "enter a choice:1\n",
      "Your current age is 30. Your age in twenty years will be 50.\n"
     ]
    }
   ],
   "source": [
    "# [ ]  create rainbow_or_age()\n",
    "def rainbow_or_age (choice):\n",
    "    if choice.isdigit() == True:\n",
    "        return age_20(my_age)\n",
    "    elif choice.isalpha() == True:\n",
    "        return rainbow_val\n",
    "    else:\n",
    "        print(\"please enter either a digit or a letter\")\n",
    "my_choice= input(\"enter a choice:\")\n",
    "rainbow_or_age (my_choice)"
   ]
  },
  {
   "cell_type": "code",
   "execution_count": 1,
   "metadata": {},
   "outputs": [
    {
     "name": "stdout",
     "output_type": "stream",
     "text": [
      "enter a number1\n",
      "enter a second number:2\n",
      "the sum is  3\n"
     ]
    }
   ],
   "source": [
    "# [ ]  add 2 numbers from input using a cast to integer and display the answer \n",
    "num_1=int(input('enter a number'))\n",
    "num_2 =int(input('enter a second number:'))\n",
    "sum=num_1+num_2\n",
    "\n",
    "print('the sum is ',sum)\n"
   ]
  },
  {
   "cell_type": "code",
   "execution_count": 2,
   "metadata": {},
   "outputs": [
    {
     "name": "stdout",
     "output_type": "stream",
     "text": [
      "enter a number3\n",
      "enter a second number:5\n",
      "the answer is 15\n"
     ]
    }
   ],
   "source": [
    "# [ ] Multiply 2 numbers from input using cast and save the answer as part of a string \"the answer is...\"\n",
    "# display the string using print\n",
    "num_1=int(input('enter a number'))\n",
    "num_2 =int(input('enter a second number:'))\n",
    "result=num_1*num_2\n",
    "print('the answer is',result)\n"
   ]
  },
  {
   "cell_type": "code",
   "execution_count": 4,
   "metadata": {},
   "outputs": [
    {
     "name": "stdout",
     "output_type": "stream",
     "text": [
      "enter a number10\n",
      "enter a second number:2\n",
      "the answer is 6.0\n"
     ]
    }
   ],
   "source": [
    "# [ ] get input of 2 numbers and display the average: (num1 + num2) divided by 2\n",
    "num_1=int(input('enter a number'))\n",
    "num_2 =int(input('enter a second number:'))\n",
    "result=(num_1+num_2)/2\n",
    "print('the answer is',result)"
   ]
  },
  {
   "cell_type": "markdown",
   "metadata": {},
   "source": [
    "# [ ] get input of 2 numbers and subtract the largest from the smallest (use an if statement to see which is larger)\n",
    "# show the answer\n",
    "num_1=int(input('enter a number'))\n",
    "num_2 =int(input('enter a second number:'))\n",
    "result=num_1-num_2\n",
    "if num_\n",
    "print('the answer is',result)\n"
   ]
  },
  {
   "cell_type": "code",
   "execution_count": 10,
   "metadata": {},
   "outputs": [
    {
     "name": "stdout",
     "output_type": "stream",
     "text": [
      "enter the first number:100\n",
      "enter the second number:200\n",
      "then number two is larger True and answer is -100\n"
     ]
    }
   ],
   "source": [
    "# [ ] Divide a larger number by a smaller number and print the integer part of the result\n",
    "# don't divide by zero! if a zero is input make the result zero\n",
    "# [ ] cast the answer to an integer to cut off the decimals and print the result\n",
    "num_1=int(input('enter the first number:'))\n",
    "num_2=int(input('enter the second number:'))\n",
    "result=num_1-num_2\n",
    "if num_1>num_2:\n",
    "    print('the number one is larger',num_1>num_2,'and answer is',result)\n",
    "else:\n",
    "    print('then number two is larger',num_2>num_1,'and answer is',result)\n"
   ]
  },
  {
   "cell_type": "markdown",
   "metadata": {},
   "source": [
    "## [Terms of use](http://go.microsoft.com/fwlink/?LinkID=206977) &nbsp; [Privacy & cookies](https://go.microsoft.com/fwlink/?LinkId=521839) &nbsp; © 2017 Microsoft"
   ]
  }
 ],
 "metadata": {
  "anaconda-cloud": {},
  "kernelspec": {
   "display_name": "Python 3",
   "language": "python",
   "name": "python3"
  },
  "language_info": {
   "codemirror_mode": {
    "name": "ipython",
    "version": 3
   },
   "file_extension": ".py",
   "mimetype": "text/x-python",
   "name": "python",
   "nbconvert_exporter": "python",
   "pygments_lexer": "ipython3",
   "version": "3.7.0"
  }
 },
 "nbformat": 4,
 "nbformat_minor": 1
}
